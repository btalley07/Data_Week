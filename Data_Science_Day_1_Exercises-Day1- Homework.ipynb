{
 "cells": [
  {
   "cell_type": "markdown",
   "metadata": {},
   "source": [
    "# Exercises"
   ]
  },
  {
   "cell_type": "markdown",
   "metadata": {},
   "source": [
    "### #1 - Calculate the BMI (body mass index) on the two lists below using NDArrays..."
   ]
  },
  {
   "cell_type": "code",
   "execution_count": 6,
   "metadata": {},
   "outputs": [
    {
     "name": "stdout",
     "output_type": "stream",
     "text": [
      "[16.86620458 17.87755102 18.82562984 19.71450617 20.54794521 21.32943755\n",
      " 22.06222222]\n"
     ]
    }
   ],
   "source": [
    "import numpy as np\n",
    "# formula = weight / (height**2) * 730\n",
    "height = [69, 70, 71, 72, 73, 74, 75]\n",
    "weight = [110, 120, 130, 140, 150, 160, 170]\n",
    "\n",
    "# OUTPUT: [16.86620458 17.87755102 18.82562984 19.71450617 20.54794521 21.32943755\n",
    "# 22.06222222]\n",
    "\n",
    "\n",
    "np_height = np.array(height) \n",
    "np_weight = np.array(weight)\n",
    "bmi = (np_weight / np_height ** 2) *730\n",
    "print(bmi)"
   ]
  },
  {
   "cell_type": "markdown",
   "metadata": {},
   "source": [
    "### #2 - Create a function that will take in two parameters and will create a random matrix based off of those parameters. Extra: Have additional parameters taken in that allow the user to choose the shape and data type of the matrix."
   ]
  },
  {
   "cell_type": "code",
   "execution_count": 12,
   "metadata": {},
   "outputs": [
    {
     "name": "stdout",
     "output_type": "stream",
     "text": [
      "[[3.59304996 3.45313835 3.45672718 3.10138273 5.76667698 1.57913043\n",
      "  4.23282475 6.21123497 4.73726815]\n",
      " [2.28774672 2.40363705 5.12765241 2.07558854 6.84655193 4.91635111\n",
      "  6.2049179  5.63120316 5.7720398 ]\n",
      " [4.38907699 4.86166599 4.20930623 4.58672301 5.05440254 2.4135575\n",
      "  2.45188621 5.60889595 1.77711582]\n",
      " [4.16706442 2.49686424 6.51168303 2.23229627 1.35363573 4.75053121\n",
      "  6.14263634 5.37715848 3.97541425]\n",
      " [5.94469065 6.84258439 1.67173555 6.2916955  5.54797562 5.1418062\n",
      "  4.46128268 6.76370323 5.79974176]\n",
      " [5.06623912 5.29319782 1.63499481 3.34310462 6.72734077 5.68453921\n",
      "  3.76519371 5.50987494 1.60383237]\n",
      " [6.37373371 5.24610565 4.24976641 1.16055271 4.52961924 2.57784229\n",
      "  4.80581918 3.99879885 4.94484095]\n",
      " [6.13918317 4.33094797 4.1792775  3.18974327 4.57344794 2.32371051\n",
      "  1.24797219 6.52818127 6.19968624]]\n"
     ]
    }
   ],
   "source": [
    "\"\"\"\n",
    "Example Result\n",
    "array([[14.21633515,  7.98846653,  9.64140715],\n",
    "       [ 6.30982234,  9.96414331,  8.43153688],\n",
    "       [14.73102068, 11.76072894, 14.23356121]])\n",
    "\"\"\"\n",
    "def makeMatrix(low,high,shape,data_type = float): \n",
    "    return np.random.uniform(low, high, shape)\n",
    "\n",
    "print(makeMatrix(1,7,(8,9)))\n",
    "\n"
   ]
  },
  {
   "cell_type": "markdown",
   "metadata": {},
   "source": [
    "### #3 - Extra: Open and load the data in the two text files that have the Boston Red Sox hitting data for the past seasons. Compare the difference in the two years by putting the data into an NDArray and running a differencial operation on it. The column to look for will be SLG.\n",
    "\n",
    "Your output should display which year (either 2017 or 2018) was a better year based on SLG"
   ]
  },
  {
   "cell_type": "code",
   "execution_count": 13,
   "metadata": {},
   "outputs": [],
   "source": [
    "import csv\n",
    "import numpy as np\n",
    "\n",
    "#Test to make sure you have the correct data\n",
    "\n",
    "\n"
   ]
  },
  {
   "cell_type": "code",
   "execution_count": 14,
   "metadata": {},
   "outputs": [
    {
     "ename": "NameError",
     "evalue": "name 'load_data' is not defined",
     "output_type": "error",
     "traceback": [
      "\u001b[0;31m---------------------------------------------------------------------------\u001b[0m",
      "\u001b[0;31mNameError\u001b[0m                                 Traceback (most recent call last)",
      "\u001b[0;32m<ipython-input-14-f52ecd48c88f>\u001b[0m in \u001b[0;36m<module>\u001b[0;34m\u001b[0m\n\u001b[1;32m     20\u001b[0m     \u001b[0;32mreturn\u001b[0m \u001b[0mdata\u001b[0m\u001b[0;34m\u001b[0m\u001b[0;34m\u001b[0m\u001b[0m\n\u001b[1;32m     21\u001b[0m \u001b[0;34m\u001b[0m\u001b[0m\n\u001b[0;32m---> 22\u001b[0;31m \u001b[0mbs2017\u001b[0m \u001b[0;34m=\u001b[0m \u001b[0mload_data\u001b[0m\u001b[0;34m(\u001b[0m\u001b[0;34m'./files/redsox_2017_hitting.txt'\u001b[0m\u001b[0;34m)\u001b[0m\u001b[0;34m\u001b[0m\u001b[0;34m\u001b[0m\u001b[0m\n\u001b[0m\u001b[1;32m     23\u001b[0m \u001b[0mbs2018\u001b[0m \u001b[0;34m=\u001b[0m \u001b[0mload_data\u001b[0m\u001b[0;34m(\u001b[0m\u001b[0;34m'./files/redsox_2018_hitting.txt'\u001b[0m\u001b[0;34m)\u001b[0m\u001b[0;34m\u001b[0m\u001b[0;34m\u001b[0m\u001b[0m\n\u001b[1;32m     24\u001b[0m \u001b[0;34m\u001b[0m\u001b[0m\n",
      "\u001b[0;31mNameError\u001b[0m: name 'load_data' is not defined"
     ]
    }
   ],
   "source": [
    "\"\"\"\n",
    "Example Result - Not the actual result\n",
    "Boston 18 had more SLG in 2018\n",
    "[0.404 0.443 0.392 0.403 0.482 0.424 0.402 0.459 0.429 0.354 0.387 0.333\n",
    " 0.539 0.243 0.262 0.354 0.342 0.339 0.328 0.306 0.222 0.2   1.   ]\n",
    "\"\"\"\n",
    "\n",
    "FIELDS = ['Rk', 'Pos', 'Name', 'Age', 'G', 'PA', 'AB', 'R', 'H', '2B', '3B', 'HR', 'RBI', 'SB', 'CS', \n",
    "          'BB', 'SO', 'BA', 'OBP', 'SLG', 'OPS', 'OPS+', 'TB', 'GDP', 'HBP', 'SH', 'SF', 'IBB']\n",
    "\n",
    "DATATYPES = [('rk', 'i'), ('pos', '|S25'), ('name', '|S25'), ('age', 'i'), ('g', 'i'), ('pa', 'i'), ('ab', 'i'),\n",
    "                ('r', 'i'), ('h', 'i'), ('2b', 'i'), ('3b', 'i'), ('hr', 'i'), ('rbi', 'i'), ('sb', 'i'), ('cs', 'i'),\n",
    "                ('bb', 'i'), ('so', 'i'), ('ba', 'f'), ('obp', 'f'), ('slg', 'f'), ('ops', 'f'), ('opsp', 'i'),\n",
    "                ('tb', 'i'), ('gdp', 'i'), ('hbp', 'i'), ('sh', 'i'), ('sf', 'i'), ('ibb', 'i')]\n",
    "\n",
    "#Use this function to actually open the data inside of a NDArray\n",
    "def loadData(filename, d = ','):\n",
    "    data = np.genfromtxt(filename, delimiter = d, skip_header = 1,\n",
    "                        usecols = np.arange(24), invalid_raise = False, names = FIELDS, dtype = DATATYPES)\n",
    "    return data\n",
    "\n",
    "bs2017 = load_data('./files/redsox_2017_hitting.txt')\n",
    "bs2018 = load_data('./files/redsox_2018_hitting.txt')\n",
    "\n",
    "data_2017 = np.array(bs2017['SLG']).shape\n",
    "data_2018 = np.array(bs2018['SLG']).shape\n",
    "\n",
    "if data_2017 > data_2018:\n",
    "    print(\"2017 kicked 2018's ass\")\n",
    "else:\n",
    "    print(\"what now 2017!?!?!?\")"
   ]
  }
 ],
 "metadata": {
  "kernelspec": {
   "display_name": "Python 3",
   "language": "python",
   "name": "python3"
  },
  "language_info": {
   "codemirror_mode": {
    "name": "ipython",
    "version": 3
   },
   "file_extension": ".py",
   "mimetype": "text/x-python",
   "name": "python",
   "nbconvert_exporter": "python",
   "pygments_lexer": "ipython3",
   "version": "3.8.5"
  }
 },
 "nbformat": 4,
 "nbformat_minor": 2
}
